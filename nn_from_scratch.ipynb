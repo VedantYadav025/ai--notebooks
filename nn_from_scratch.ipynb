{
 "cells": [
  {
   "cell_type": "code",
   "execution_count": 178,
   "id": "d33e1fe0",
   "metadata": {},
   "outputs": [],
   "source": [
    "import numpy as np\n",
    "import matplotlib.pyplot as plt"
   ]
  },
  {
   "cell_type": "code",
   "execution_count": 179,
   "id": "bc9a90cf",
   "metadata": {},
   "outputs": [
    {
     "name": "stdout",
     "output_type": "stream",
     "text": [
      "Train: X - (60000, 28, 28), y - (60000,)\n",
      "Test: X - (10000, 28, 28), y - (10000,)\n"
     ]
    }
   ],
   "source": [
    "from keras.datasets import mnist\n",
    "\n",
    "(X_train, Y_train), (X_test, Y_test) = mnist.load_data()\n",
    "print(f'Train: X - {X_train.shape}, y - {Y_train.shape}')\n",
    "print(f'Test: X - {X_test.shape}, y - {Y_test.shape}')"
   ]
  },
  {
   "cell_type": "code",
   "execution_count": null,
   "id": "181f8fa0",
   "metadata": {},
   "outputs": [],
   "source": [
    "plt.imshow(X_train[2], cmap = 'gray')"
   ]
  },
  {
   "cell_type": "code",
   "execution_count": 181,
   "id": "923d3bf9",
   "metadata": {},
   "outputs": [
    {
     "name": "stdout",
     "output_type": "stream",
     "text": [
      "Shapes - Train: (60000, 784), Test: (10000, 784)\n"
     ]
    }
   ],
   "source": [
    "# flattening the input\n",
    "\n",
    "X_train_flattened = X_train.reshape((X_train.shape[0], -1))\n",
    "X_test_flattened = X_test.reshape((X_test.shape[0], -1))\n",
    "\n",
    "print(f\"Shapes - Train: {X_train_flattened.shape}, Test: {X_test_flattened.shape}\")"
   ]
  },
  {
   "cell_type": "code",
   "execution_count": 182,
   "id": "9b47bb7e",
   "metadata": {},
   "outputs": [
    {
     "name": "stdout",
     "output_type": "stream",
     "text": [
      "Minimum pixel value = 0.0\n",
      "Maximum pixel value = 1.0\n"
     ]
    }
   ],
   "source": [
    "X_normalized_train = np.round(X_train_flattened/X_train_flattened.max(), 3)\n",
    "X_normalized_test = np.round(X_test_flattened/X_test_flattened.max(), 3)\n",
    "#print the new values\n",
    "print(\"Minimum pixel value =\", X_normalized_train.min())\n",
    "print(\"Maximum pixel value =\", X_normalized_train.max())"
   ]
  },
  {
   "cell_type": "code",
   "execution_count": 183,
   "id": "e5e717d4",
   "metadata": {},
   "outputs": [
    {
     "data": {
      "image/png": "[encoded data removed]",
      "text/plain": [
       "<Figure size 640x480 with 1 Axes>"
      ]
     },
     "metadata": {},
     "output_type": "display_data"
    }
   ],
   "source": [
    "plt.imshow(X_normalized_train[0].reshape(28, 28), cmap = 'gray')\n",
    "plt.show()"
   ]
  },
  {
   "cell_type": "code",
   "execution_count": 184,
   "id": "b1323b17",
   "metadata": {},
   "outputs": [],
   "source": [
    "def sigmoid(z):\n",
    "    return 1 / (1 + np.exp(-z))\n",
    "\n",
    "def sigmoidPrime(z):\n",
    "    sigmoid_val = sigmoid(z)\n",
    "    return sigmoid_val * (1 - sigmoid_val)\n",
    "\n",
    "def softmax(z):\n",
    "    exp = np.exp(z)\n",
    "    return exp / np.sum(exp)\n",
    "\n",
    "def crossEntropyLoss(y, y_hat):\n",
    "    return -np.sum(y * np.log(y_hat))\n",
    "\n",
    "def oneHotEncode(label):\n",
    "    num_classes = 10\n",
    "    y = np.zeros(10)\n",
    "    for i in range(10):\n",
    "        if (label == i):\n",
    "            y[i] = 1\n",
    "    return y"
   ]
  },
  {
   "cell_type": "markdown",
   "id": "ec39a6fb",
   "metadata": {},
   "source": [
    "Our Model will have 1 hidden layer (in addition to an input layer and an output layer.\n",
    "\n",
    "Let $x$ be the input to the mode.\n",
    "\n",
    "Following are the equations of forward pass:\n",
    "\n",
    "$z^1 = W^1 x + b^1$ <br>\n",
    "$a^1 = \\Phi_1(z^1)$ <br>\n",
    "\n",
    "\n",
    "$z^2 = W^2 a^1 + b^2$ <br>\n",
    "$a^2 = \\Phi_2(z^2)$ <br>\n",
    "\n",
    "Note that $a^2$ is equal to y_hat, which denotes the final probablity vector"
   ]
  },
  {
   "cell_type": "code",
   "execution_count": 185,
   "id": "846f51d4",
   "metadata": {},
   "outputs": [],
   "source": [
    "def forward(x, W1, b1, W2, b2):\n",
    "    z1 = np.matmul(W1, x) + b1\n",
    "    a1 = sigmoid(z1)\n",
    "    z2 = np.matmul(W2, a1) + b2\n",
    "    a2 = softmax(z2)\n",
    "    return z1, z2, a1, a2"
   ]
  },
  {
   "cell_type": "code",
   "execution_count": 186,
   "id": "825ad1b3",
   "metadata": {},
   "outputs": [],
   "source": [
    "def backward(x_input, W1, W2, b1, b2, z1, z2, a1, a2, y):\n",
    "    # Output: dW1, dW2, db1, db2\n",
    "    y_hat = a2 # for my ease\n",
    "    dW2 = (y_hat - y) @ np.transpose(a1)\n",
    "    dZ2 = y_hat - y\n",
    "    db2 = y_hat - y\n",
    "    dZ1 = np.zeros_like(z1)\n",
    "    for i in range(100):\n",
    "        sum = 0\n",
    "        for m in range(10):\n",
    "            sum += dZ2[m] * W2[m][i] * sigmoidPrime(z1[i])\n",
    "            # print(sum)\n",
    "        dZ1[i] = sum\n",
    "    # print(dZ1.shape)\n",
    "    # print(x_input.shape)\n",
    "    dW1 = dZ1 @ np.transpose(x_input)\n",
    "    db1 = np.sum(dZ2, axis=0, keepdims=True)\n",
    "    return dW1, dW2, db1, db2"
   ]
  },
  {
   "cell_type": "code",
   "execution_count": 245,
   "id": "63a4c93e",
   "metadata": {},
   "outputs": [],
   "source": [
    "def predict(x, W1, b1, W2, b2):\n",
    "    y_hat = forward(x, W1, b1, W2, b2)[-1]\n",
    "    return np.argmax(y_hat)"
   ]
  },
  {
   "cell_type": "code",
   "execution_count": 265,
   "id": "5b3363d7",
   "metadata": {},
   "outputs": [],
   "source": [
    "def train(X, Y, lr):\n",
    "    w1 = np.random.randn(100, 784)\n",
    "    w2 = np.random.randn(10, 100)\n",
    "    b1 = np.random.randn(100).reshape(-1, 1)\n",
    "    b2 = np.random.randn(10).reshape(-1, 1)\n",
    "    nums_right_predicts = 0\n",
    "    a = True\n",
    "    \n",
    "    for idx in range(len(X)):\n",
    "        x = X[idx].reshape(-1, 1)  # Reshape input to column vector\n",
    "        y = oneHotEncode(Y[idx]).reshape(-1, 1)  # One-hot encode label\n",
    "        \n",
    "        # Forward and Backward passes\n",
    "        z1, z2, a1, a2 = forward(x, w1, b1, w2, b2)\n",
    "        dW1, dW2, db1, db2 = backward(x, w1, w2, b1, b2, z1, z2, a1, a2, y)\n",
    "        \n",
    "        # Update parameters using gradients\n",
    "        w1 = w1 - lr * dW1\n",
    "        w2 = w2 - lr * dW2\n",
    "        b1 = b1 - lr * db1\n",
    "        b2 = b2 - lr * db2\n",
    "        \n",
    "        # Check predictions for accuracy\n",
    "        y_pred = predict(x, w1, b1, w2, b2)\n",
    "        if y_pred == Y[idx]:  # Compare predicted class with true label\n",
    "            nums_right_predicts += 1\n",
    "            if (a):\n",
    "                plt.imshow(x.reshape(28, 28))\n",
    "                plt.show()\n",
    "                print(y_pred)\n",
    "                a = False\n",
    "        \n",
    "        # Print accuracy every 1000 iterations\n",
    "        if (idx % 1000 == 0 and idx != 0):\n",
    "            print(f\"Iteration: {idx}\")\n",
    "            print(f\"Accuracy over last 1000 samples: {(nums_right_predicts / 1000) * 100:.2f}%\")\n",
    "            nums_right_predicts = 0  # Reset counter\n",
    "    \n",
    "    return w1, w2, b1, b2"
   ]
  },
  {
   "cell_type": "code",
   "execution_count": 267,
   "id": "8c4acdb4",
   "metadata": {},
   "outputs": [
    {
     "data": {
      "image/png": "[encoded data removed]",
      "text/plain": [
       "<Figure size 640x480 with 1 Axes>"
      ]
     },
     "metadata": {},
     "output_type": "display_data"
    },
    {
     "name": "stdout",
     "output_type": "stream",
     "text": [
      "7\n",
      "Iteration: 1000\n",
      "Accuracy over last 1000 samples: 97.30%\n",
      "Iteration: 2000\n",
      "Accuracy over last 1000 samples: 98.00%\n",
      "Iteration: 3000\n",
      "Accuracy over last 1000 samples: 98.60%\n",
      "Iteration: 4000\n",
      "Accuracy over last 1000 samples: 99.10%\n",
      "Iteration: 5000\n",
      "Accuracy over last 1000 samples: 99.10%\n",
      "Iteration: 6000\n",
      "Accuracy over last 1000 samples: 99.50%\n",
      "Iteration: 7000\n",
      "Accuracy over last 1000 samples: 99.40%\n",
      "Iteration: 8000\n",
      "Accuracy over last 1000 samples: 99.90%\n",
      "Iteration: 9000\n",
      "Accuracy over last 1000 samples: 99.90%\n"
     ]
    }
   ],
   "source": [
    "W1, W2, b1, b2 = train(X_normalized_test, Y_test, 0.1)"
   ]
  },
  {
   "cell_type": "code",
   "execution_count": 298,
   "id": "ab1a29f6",
   "metadata": {},
   "outputs": [
    {
     "name": "stdout",
     "output_type": "stream",
     "text": [
      "The number is: 8\n"
     ]
    },
    {
     "data": {
      "image/png": "[encoded data removed]",
      "text/plain": [
       "<Figure size 640x480 with 1 Axes>"
      ]
     },
     "metadata": {},
     "output_type": "display_data"
    }
   ],
   "source": [
    "x = X_normalized_train[1009].reshape(-1, 1)\n",
    "y_pred = predict(x, W1, b1, W2, b2)\n",
    "plt.imshow(x.reshape(28, 28), cmap = 'gray')\n",
    "print(f\"The number is: {y_pred}\")\n",
    "plt.show()"
   ]
  },
  {
   "cell_type": "code",
   "execution_count": null,
   "id": "471f5a1d",
   "metadata": {},
   "outputs": [],
   "source": []
  }
 ],
 "metadata": {
  "kernelspec": {
   "display_name": "Python 3 (ipykernel)",
   "language": "python",
   "name": "python3"
  },
  "language_info": {
   "codemirror_mode": {
    "name": "ipython",
    "version": 3
   },
   "file_extension": ".py",
   "mimetype": "text/x-python",
   "name": "python",
   "nbconvert_exporter": "python",
   "pygments_lexer": "ipython3",
   "version": "3.12.4"
  }
 },
 "nbformat": 4,
 "nbformat_minor": 5
}
